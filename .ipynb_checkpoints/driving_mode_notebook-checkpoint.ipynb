{
 "cells": [
  {
   "cell_type": "code",
   "execution_count": 7,
   "id": "eed30cff",
   "metadata": {
    "ExecuteTime": {
     "end_time": "2022-03-25T10:41:20.303966Z",
     "start_time": "2022-03-25T10:41:20.278052Z"
    },
    "hide_input": false
   },
   "outputs": [],
   "source": [
    "import rospy\n",
    "import jupyros as jr \n",
    "import ipywidgets as widgets\n",
    "import sys\n",
    "import os\n",
    "\n",
    "from jupyros import ros3d\n",
    "from ipywidgets import interactive_output\n",
    "from geometry_msgs.msg import Twist\n",
    "from rt2_assignment.srv import Command\n",
    "\n",
    "sys.path.append(\"./scripts/\")\n",
    "import autonomous_driving"
   ]
  },
  {
   "cell_type": "code",
   "execution_count": 8,
   "id": "0bdcaf81",
   "metadata": {
    "ExecuteTime": {
     "end_time": "2022-03-25T10:41:21.776373Z",
     "start_time": "2022-03-25T10:41:20.983766Z"
    },
    "hide_input": false
   },
   "outputs": [],
   "source": [
    "ui = None\n",
    "rospy.init_node('driving_mode')\n",
    "ad = autonomous_driving.autonomous_driving(ui)\n",
    "client = rospy.ServiceProxy(\"/command\", Command)\n",
    "rospy.wait_for_service(\"/command\")\n",
    "publisher = jr.publish('/cmd_vel', Twist)"
   ]
  },
  {
   "cell_type": "code",
   "execution_count": 9,
   "id": "8b6c06a8",
   "metadata": {
    "ExecuteTime": {
     "end_time": "2022-03-25T10:41:22.029218Z",
     "start_time": "2022-03-25T10:41:21.876877Z"
    },
    "hide_input": false,
    "scrolled": false
   },
   "outputs": [
    {
     "data": {
      "application/vnd.jupyter.widget-view+json": {
       "model_id": "6ce8fb5425a345dcbda67ba3567b1712",
       "version_major": 2,
       "version_minor": 0
      },
      "text/plain": [
       "ToggleButtons(description='Choose:', options=(('Autonomous driving', 1), ('Free drive', 2), ('Driver assistanc…"
      ]
     },
     "metadata": {},
     "output_type": "display_data"
    }
   ],
   "source": [
    "driving_mode = widgets.ToggleButtons(\n",
    "    options=[('Autonomous driving', 1), ('Free drive', 2), ('Driver assistance', 3)],\n",
    "    description='Choose:',\n",
    "    value=1,\n",
    "    disabled=False,\n",
    "    button_style='',\n",
    ")\n",
    "\n",
    "x_goal = widgets.FloatText(\n",
    "    value=0,\n",
    "    description='x goal:',\n",
    "    disabled=False,\n",
    ")\n",
    "\n",
    "y_goal = widgets.FloatText(\n",
    "    value=0,\n",
    "    description='y goal:',\n",
    "    disabled=False,\n",
    ")\n",
    "\n",
    "driver_assistance = widgets.ToggleButtons(\n",
    "    options=[('Increase speed', 'w'), ('Decrease speed', 's'), ('Turn left', 'a'), ('Turn right', 'd'),\n",
    "             ('Stop linear', 'x'), ('Stop angular', 'z')],\n",
    "    value=None,\n",
    "    disabled=False,\n",
    "    button_style='',\n",
    ")\n",
    "\n",
    "display(driving_mode)"
   ]
  },
  {
   "cell_type": "code",
   "execution_count": 10,
   "id": "0e32c446",
   "metadata": {
    "ExecuteTime": {
     "end_time": "2022-03-25T10:41:22.945423Z",
     "start_time": "2022-03-25T10:41:22.932827Z"
    }
   },
   "outputs": [],
   "source": [
    "def ask_server(req):\n",
    "    print(req)\n",
    "    client(ord(req))\n",
    "    \n",
    "interactive_output(ask_server, {'req': driver_assistance})"
   ]
  },
  {
   "cell_type": "code",
   "execution_count": 11,
   "id": "9cb514a1",
   "metadata": {
    "ExecuteTime": {
     "end_time": "2022-03-25T10:41:23.143676Z",
     "start_time": "2022-03-25T10:41:22.953053Z"
    },
    "hide_input": false,
    "scrolled": true
   },
   "outputs": [
    {
     "data": {
      "application/vnd.jupyter.widget-view+json": {
       "model_id": "9d09160a4f0e4d5f903d6743e94bcc97",
       "version_major": 2,
       "version_minor": 0
      },
      "text/plain": [
       "Output()"
      ]
     },
     "metadata": {},
     "output_type": "display_data"
    }
   ],
   "source": [
    "def choice(mode):\n",
    "    \n",
    "    client(ord('1'))\n",
    "    if ad.is_active is True:\n",
    "        ad.cancel_goal()\n",
    "    \n",
    "    if mode == 1:\n",
    "        display(x_goal)\n",
    "        display(y_goal)\n",
    "        \n",
    "        interactive_output(ad.reach_goal, {'x': x_goal, 'y': y_goal})\n",
    "\n",
    "    if mode == 2:   \n",
    "        display(publisher)\n",
    "        \n",
    "    if mode == 3:\n",
    "        client(ord('0'))\n",
    "        display(driver_assistance)\n",
    "        \n",
    "interactive_output(choice, {'mode': driving_mode})"
   ]
  },
  {
   "cell_type": "code",
   "execution_count": 12,
   "id": "d85b2ff7",
   "metadata": {
    "ExecuteTime": {
     "end_time": "2022-03-25T10:41:23.254711Z",
     "start_time": "2022-03-25T10:41:23.160360Z"
    },
    "hide_input": false
   },
   "outputs": [
    {
     "data": {
      "application/vnd.jupyter.widget-view+json": {
       "model_id": "6200e1fddec24b8ea1f83307fd4ec31a",
       "version_major": 2,
       "version_minor": 0
      },
      "text/plain": [
       "Viewer(objects=[GridModel(), LaserScan(ros=ROSConnection(url='ws://localhost:9090'), tf_client=TFClient(fixed_…"
      ]
     },
     "metadata": {},
     "output_type": "display_data"
    }
   ],
   "source": [
    "v = ros3d.Viewer()\n",
    "rc = ros3d.ROSConnection(url=\"ws://localhost:9090\") \n",
    "tf_client = ros3d.TFClient(ros=rc, fixed_frame='map')\n",
    "laser_view = ros3d.LaserScan(topic=\"/scan\", ros=rc, tf_client=tf_client) \n",
    "map_view = ros3d.OccupancyGrid(topic=\"/map\", ros=rc, tf_client=tf_client) \n",
    "path = ros3d.Path(topic=\"/move_base/NavfnROS/plan\", ros=rc, tf_client=tf_client) \n",
    "urdf = ros3d.URDFModel(ros=rc, tf_client=tf_client, path=os.environ.get('JUPYROS_ASSETS_URL', 'http://localhost:3000')) \n",
    "g = ros3d.GridModel()\n",
    "v.objects = [g, laser_view, map_view, path, urdf]\n",
    "v"
   ]
  },
  {
   "cell_type": "code",
   "execution_count": null,
   "id": "6419b69d",
   "metadata": {},
   "outputs": [],
   "source": []
  },
  {
   "cell_type": "code",
   "execution_count": null,
   "id": "95fc50da",
   "metadata": {},
   "outputs": [],
   "source": []
  },
  {
   "cell_type": "code",
   "execution_count": null,
   "id": "cf51c709",
   "metadata": {},
   "outputs": [],
   "source": []
  },
  {
   "cell_type": "code",
   "execution_count": null,
   "id": "4f502716",
   "metadata": {},
   "outputs": [],
   "source": []
  },
  {
   "cell_type": "code",
   "execution_count": null,
   "id": "e6d7d742",
   "metadata": {},
   "outputs": [],
   "source": []
  }
 ],
 "metadata": {
  "kernelspec": {
   "display_name": "Python 3 (ipykernel)",
   "language": "python",
   "name": "python3"
  },
  "language_info": {
   "codemirror_mode": {
    "name": "ipython",
    "version": 3
   },
   "file_extension": ".py",
   "mimetype": "text/x-python",
   "name": "python",
   "nbconvert_exporter": "python",
   "pygments_lexer": "ipython3",
   "version": "3.8.5"
  },
  "toc": {
   "base_numbering": 1,
   "nav_menu": {},
   "number_sections": true,
   "sideBar": true,
   "skip_h1_title": false,
   "title_cell": "Table of Contents",
   "title_sidebar": "Contents",
   "toc_cell": false,
   "toc_position": {},
   "toc_section_display": true,
   "toc_window_display": false
  },
  "varInspector": {
   "cols": {
    "lenName": 16,
    "lenType": 16,
    "lenVar": 40
   },
   "kernels_config": {
    "python": {
     "delete_cmd_postfix": "",
     "delete_cmd_prefix": "del ",
     "library": "var_list.py",
     "varRefreshCmd": "print(var_dic_list())"
    },
    "r": {
     "delete_cmd_postfix": ") ",
     "delete_cmd_prefix": "rm(",
     "library": "var_list.r",
     "varRefreshCmd": "cat(var_dic_list()) "
    }
   },
   "position": {
    "height": "144.854px",
    "left": "614px",
    "right": "20px",
    "top": "100px",
    "width": "585px"
   },
   "types_to_exclude": [
    "module",
    "function",
    "builtin_function_or_method",
    "instance",
    "_Feature"
   ],
   "window_display": false
  }
 },
 "nbformat": 4,
 "nbformat_minor": 5
}
