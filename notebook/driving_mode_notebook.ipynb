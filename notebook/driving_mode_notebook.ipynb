{
 "cells": [
  {
   "cell_type": "markdown",
   "id": "64cae27e",
   "metadata": {},
   "source": [
    "# User Interface of the assignment of Research Track 2 #\n",
    "\n",
    "Before starting to use this user interface, please run:\n",
    "```console\n",
    "$ roslaunch rt2_assignment jupyter_ass.launch\n",
    "```"
   ]
  },
  {
   "cell_type": "markdown",
   "id": "6541f752",
   "metadata": {},
   "source": [
    "## imports ##"
   ]
  },
  {
   "cell_type": "code",
   "execution_count": 1,
   "id": "eed30cff",
   "metadata": {
    "ExecuteTime": {
     "end_time": "2022-04-01T11:02:09.044393Z",
     "start_time": "2022-04-01T11:02:07.022793Z"
    },
    "hide_input": false
   },
   "outputs": [],
   "source": [
    "import rospy\n",
    "import jupyros as jr \n",
    "import ipywidgets as widgets\n",
    "import sys\n",
    "import os\n",
    "\n",
    "from jupyros import ros3d\n",
    "from ipywidgets import interactive_output\n",
    "from geometry_msgs.msg import Twist\n",
    "from rt2_assignment.srv import Command\n",
    "\n",
    "# Import the autonomous_driving class of the package.\n",
    "sys.path.append(\"../scripts/\")\n",
    "import autonomous_driving"
   ]
  },
  {
   "cell_type": "markdown",
   "id": "f345f430",
   "metadata": {},
   "source": [
    "## Initialization of the ROS node ##"
   ]
  },
  {
   "cell_type": "code",
   "execution_count": 2,
   "id": "0bdcaf81",
   "metadata": {
    "ExecuteTime": {
     "end_time": "2022-04-01T11:02:09.854284Z",
     "start_time": "2022-04-01T11:02:09.055015Z"
    },
    "hide_input": false
   },
   "outputs": [],
   "source": [
    "# If ui is set to None, the autonomous_driving class does not print anything.\n",
    "ui = None\n",
    "rospy.init_node('driving_mode')                    # Initialize the ROS node.\n",
    "ad = autonomous_driving.autonomous_driving(ui)     # Initialize the clas for autonomously drive the robot.\n",
    "client = rospy.ServiceProxy(\"/command\", Command)   # Initialize the client for the driver_assistance node.\n",
    "rospy.wait_for_service(\"/command\")                 # Waits until the driver_assistance node is ready.\n",
    "publisher = jr.publish('/cmd_vel', Twist)          # Initialize a publisher to the cmd_vel topic."
   ]
  },
  {
   "cell_type": "markdown",
   "id": "0a19dd52",
   "metadata": {},
   "source": [
    "## Definition of widgets ##"
   ]
  },
  {
   "cell_type": "code",
   "execution_count": 3,
   "id": "8b6c06a8",
   "metadata": {
    "ExecuteTime": {
     "end_time": "2022-04-01T11:02:09.973860Z",
     "start_time": "2022-04-01T11:02:09.861463Z"
    },
    "hide_input": false,
    "scrolled": false
   },
   "outputs": [],
   "source": [
    "# This widget displays the three driving modalities.\n",
    "driving_mode = widgets.ToggleButtons(\n",
    "    options=[('Autonomous driving', 1), ('Free drive', 2), ('Driver assistance', 3)],\n",
    "    description='Choose:',\n",
    "    value=1,\n",
    "    disabled=False,\n",
    "    button_style='',\n",
    ")\n",
    "\n",
    "# This widget asks for the x goal.\n",
    "x_goal = widgets.FloatText(\n",
    "    value=0,\n",
    "    description='x goal:',\n",
    "    disabled=False,\n",
    ")\n",
    "\n",
    "# This widget asks for the y goal.\n",
    "y_goal = widgets.FloatText(\n",
    "    value=0,\n",
    "    description='y goal:',\n",
    "    disabled=False,\n",
    ")\n",
    "\n",
    "# This widget shows the possible commands for the driver_assistance node.\n",
    "driver_assistance = widgets.ToggleButtons(\n",
    "    options=[('Increase speed', 'w'), ('Decrease speed', 's'), ('Turn left', 'a'), ('Turn right', 'd'),\n",
    "             ('Stop linear', 'x'), ('Stop angular', 'z'), ('Stop sending', '0')],\n",
    "    value='0',\n",
    "    disabled=False,\n",
    "    button_style='',\n",
    ")"
   ]
  },
  {
   "cell_type": "markdown",
   "id": "f0893c18",
   "metadata": {},
   "source": [
    "## User Interface ##"
   ]
  },
  {
   "cell_type": "markdown",
   "id": "4dac145f",
   "metadata": {
    "hide_input": false
   },
   "source": [
    "### Choose one of the following driving modalities: ###"
   ]
  },
  {
   "cell_type": "code",
   "execution_count": 4,
   "id": "254cb0d3",
   "metadata": {
    "ExecuteTime": {
     "end_time": "2022-04-01T11:02:09.998248Z",
     "start_time": "2022-04-01T11:02:09.980872Z"
    },
    "hide_input": false
   },
   "outputs": [
    {
     "data": {
      "application/vnd.jupyter.widget-view+json": {
       "model_id": "233611be5bd1435fa30b0c19953e301e",
       "version_major": 2,
       "version_minor": 0
      },
      "text/plain": [
       "ToggleButtons(description='Choose:', options=(('Autonomous driving', 1), ('Free drive', 2), ('Driver assistanc…"
      ]
     },
     "metadata": {},
     "output_type": "display_data"
    }
   ],
   "source": [
    "display(driving_mode)"
   ]
  },
  {
   "cell_type": "markdown",
   "id": "44089165",
   "metadata": {
    "hide_input": true
   },
   "source": [
    "### Drive the robot! ###"
   ]
  },
  {
   "cell_type": "code",
   "execution_count": 5,
   "id": "9cb514a1",
   "metadata": {
    "ExecuteTime": {
     "end_time": "2022-04-01T11:02:10.212606Z",
     "start_time": "2022-04-01T11:02:10.023705Z"
    },
    "hide_input": false,
    "scrolled": true
   },
   "outputs": [
    {
     "data": {
      "application/vnd.jupyter.widget-view+json": {
       "model_id": "1c72e754067c4af9bf74d485cf577efe",
       "version_major": 2,
       "version_minor": 0
      },
      "text/plain": [
       "Output()"
      ]
     },
     "metadata": {},
     "output_type": "display_data"
    }
   ],
   "source": [
    "def ask_server(req):\n",
    "    # Function binded with the driver_assistance widget to ask the server with the proper command.\n",
    "    client(ord(req))\n",
    "    \n",
    "\n",
    "def choice(mode):\n",
    "    # Function binded with the driving_mode widget.\n",
    "    # It shows the proper user interface for different driving modalities.\n",
    "    \n",
    "    # If the autonomous driving is processing a goal, send  cancel request.\n",
    "    if ad.is_active is True:\n",
    "        ad.cancel_goal()\n",
    "    \n",
    "    if mode == 1:        ### Autonomous driving mode selected. ###\n",
    "        \n",
    "        ask_server('1')   # Disable the driver_assistance node.\n",
    "        display(x_goal)\n",
    "        display(y_goal)\n",
    "        interactive_output(ad.reach_goal, {'x': x_goal, 'y': y_goal})   # Ask the autonomous_driving to reach the goal.\n",
    "\n",
    "    if mode == 2:        ### Free drive mode selected. ###\n",
    "        \n",
    "        ask_server('1')   # Disable the driver_assistance node.\n",
    "        display(publisher)\n",
    "        \n",
    "    if mode == 3:        ### Driver assistance mode selected. ###\n",
    "        \n",
    "        ask_server('0')   # Enable the driver_assistance node.\n",
    "        display(driver_assistance)\n",
    "        \n",
    "interactive_output(ask_server, {'req': driver_assistance})\n",
    "interactive_output(choice, {'mode': driving_mode})"
   ]
  },
  {
   "cell_type": "markdown",
   "id": "e878b16e",
   "metadata": {},
   "source": [
    "### This is what the robot can see: ###"
   ]
  },
  {
   "cell_type": "code",
   "execution_count": 6,
   "id": "d85b2ff7",
   "metadata": {
    "ExecuteTime": {
     "end_time": "2022-04-01T11:02:10.397921Z",
     "start_time": "2022-04-01T11:02:10.227928Z"
    },
    "hide_input": false,
    "scrolled": true
   },
   "outputs": [
    {
     "data": {
      "application/vnd.jupyter.widget-view+json": {
       "model_id": "74a86be9628f459b965f491717fcc4e7",
       "version_major": 2,
       "version_minor": 0
      },
      "text/plain": [
       "Viewer(objects=[GridModel(), LaserScan(ros=ROSConnection(url='ws://localhost:9090'), tf_client=TFClient(fixed_…"
      ]
     },
     "metadata": {},
     "output_type": "display_data"
    }
   ],
   "source": [
    "v = ros3d.Viewer()\n",
    "rc = ros3d.ROSConnection(url=\"ws://localhost:9090\") \n",
    "tf_client = ros3d.TFClient(ros=rc, fixed_frame='map')\n",
    "laser_view = ros3d.LaserScan(topic=\"/scan\", ros=rc, tf_client=tf_client) \n",
    "map_view = ros3d.OccupancyGrid(topic=\"/map\", ros=rc, tf_client=tf_client, continuous=True) \n",
    "path = ros3d.Path(topic=\"/move_base/NavfnROS/plan\", ros=rc, tf_client=tf_client) \n",
    "urdf = ros3d.URDFModel(ros=rc, tf_client=tf_client, path=os.environ.get('JUPYROS_ASSETS_URL', 'http://localhost:3000')) \n",
    "g = ros3d.GridModel()\n",
    "v.objects = [g, laser_view, map_view, path, urdf]\n",
    "v"
   ]
  }
 ],
 "metadata": {
  "kernelspec": {
   "display_name": "Python 3 (ipykernel)",
   "language": "python",
   "name": "python3"
  },
  "language_info": {
   "codemirror_mode": {
    "name": "ipython",
    "version": 3
   },
   "file_extension": ".py",
   "mimetype": "text/x-python",
   "name": "python",
   "nbconvert_exporter": "python",
   "pygments_lexer": "ipython3",
   "version": "3.8.5"
  },
  "toc": {
   "base_numbering": 1,
   "nav_menu": {},
   "number_sections": true,
   "sideBar": true,
   "skip_h1_title": false,
   "title_cell": "Table of Contents",
   "title_sidebar": "Contents",
   "toc_cell": false,
   "toc_position": {},
   "toc_section_display": true,
   "toc_window_display": false
  },
  "varInspector": {
   "cols": {
    "lenName": 16,
    "lenType": 16,
    "lenVar": 40
   },
   "kernels_config": {
    "python": {
     "delete_cmd_postfix": "",
     "delete_cmd_prefix": "del ",
     "library": "var_list.py",
     "varRefreshCmd": "print(var_dic_list())"
    },
    "r": {
     "delete_cmd_postfix": ") ",
     "delete_cmd_prefix": "rm(",
     "library": "var_list.r",
     "varRefreshCmd": "cat(var_dic_list()) "
    }
   },
   "position": {
    "height": "144.854px",
    "left": "614px",
    "right": "20px",
    "top": "100px",
    "width": "585px"
   },
   "types_to_exclude": [
    "module",
    "function",
    "builtin_function_or_method",
    "instance",
    "_Feature"
   ],
   "window_display": false
  }
 },
 "nbformat": 4,
 "nbformat_minor": 5
}
